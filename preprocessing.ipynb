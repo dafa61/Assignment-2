{
 "cells": [
  {
   "cell_type": "code",
   "execution_count": 1,
   "id": "945cefed",
   "metadata": {},
   "outputs": [],
   "source": [
    "import numpy as np\n",
    "import matplotlib.pyplot as plt\n",
    "import pandas as pd"
   ]
  },
  {
   "cell_type": "code",
   "execution_count": 2,
   "id": "ddf5e8b5",
   "metadata": {},
   "outputs": [],
   "source": [
    "dataset = pd.read_csv('StudentsPerformance.csv')\n",
    "X = dataset.iloc[:, :-1].values\n",
    "y = dataset.iloc[:, -1].values"
   ]
  },
  {
   "cell_type": "code",
   "execution_count": 3,
   "id": "51329464",
   "metadata": {},
   "outputs": [],
   "source": [
    "from sklearn.model_selection import train_test_split\n",
    "X_train, X_test, y_train, y_test = train_test_split(X, y, test_size = 0.2, random_state = 0)"
   ]
  },
  {
   "cell_type": "code",
   "execution_count": 4,
   "id": "1a15eaf2",
   "metadata": {},
   "outputs": [
    {
     "name": "stdout",
     "output_type": "stream",
     "text": [
      "[['female' 'group B' \"bachelor's degree\" ... 'none' 72 72]\n",
      " ['female' 'group C' 'some college' ... 'completed' 69 90]\n",
      " ['female' 'group B' \"master's degree\" ... 'none' 90 95]\n",
      " ...\n",
      " ['female' 'group C' 'high school' ... 'completed' 59 71]\n",
      " ['female' 'group D' 'some college' ... 'completed' 68 78]\n",
      " ['female' 'group D' 'some college' ... 'none' 77 86]]\n"
     ]
    }
   ],
   "source": [
    "print(X)"
   ]
  },
  {
   "cell_type": "code",
   "execution_count": 5,
   "id": "15c60f1b",
   "metadata": {},
   "outputs": [
    {
     "name": "stdout",
     "output_type": "stream",
     "text": [
      "[ 74  88  93  44  75  78  92  39  67  50  52  43  73  70  58  78  86  28\n",
      "  46  61  63  70  53  73  80  72  55  75  65  75  74  61  65  38  82  79\n",
      "  83  59  88  57  54  68  65  66  54  57  62  76  76  82  48  68  42  75\n",
      "  87  43  86  49  58  10  72  34  55  71  59  61  37  74  56  57  73  63\n",
      "  48  56  41  38  22  81  72  68  50  45  54  63  34  82  88  74  67  82\n",
      "  74  36  71  50  92  82  62  70  62  62  67  74  89  47  90  72 100  64\n",
      "  70  72  98  49  47  54 100  74  82  79  61  65  89  92  93  56  73  86\n",
      "  67  74  74  51  82  40  70  84  75  48  41  56  67  69  71  64  54  47\n",
      "  78  33  75  66  81  93  69  68  66  47  61  88  78  60  87  64  74  85\n",
      "  52  49  91 100  51  78  78  70  74  78  81  70  54  87  58  77  62 100\n",
      "  75  66  47  70  49  65  65  68  45  87  69  79  66  62  85  52  65  51\n",
      "  55  76  86  77  69  68  42  78  62  76  76  66  79  27  60  56  81  75\n",
      "  88  39  70  56  74  73  62  75  73  54  71  54  64  94  66  42  83  78\n",
      "  84  77  67  74  51  80  66  83  55  43  69  71  74  68  62  53  49  83\n",
      "  70  72  52  70  68  77  78  81  77  78  51  90  68  41  81  77  95  70\n",
      "  61  42  58  71  76  73  93  75  80  57  42  46  84  78  46  82  88  82\n",
      "  76  77  68  70  57  75  80  60  43  68  50  75  81  52  81  64  83  69\n",
      "  81  44  67  52  80  57  68  69  75  65  91  78  69  63  84  79  80  53\n",
      "  43  94  62  19  77  51  61  35  53  81  95  66  69  43  27  60  52  63\n",
      "  74  67  67  75  57  95  66  76  69  52  80  57  70  70  61  69  61  89\n",
      "  59  78  58  32  58  60  53  61  58  85  71  70  72  96  73  41  82 100\n",
      "  77  62  83  95  71  45  43  75  70  67  64  75  59  77  67  56  77  41\n",
      "  63  95  57  54  67  43  55 100  62  68  63  77  56  85  74  78  60  67\n",
      "  79  69  68  67  62  54  93  64  67  80  34  62  86  65  53  54  59  70\n",
      "  55  50  66  53  64  73  51  82  79  80  69  76  73  77  60  80  42  72\n",
      "  85  97  74  49  62  47  89  48 100  68  55  45  76  91  62  91  38  65\n",
      "  85  76  90  74  84  61  91  83  66  72  70  67  68  56  61  46  54  71\n",
      "  56  74  57  82  76  70  90  90  68  66  52  76  68  72  82  92  54  92\n",
      "  54  80  66  54  77  87  73  43  52  62  94  85  84  73  78  79  52  84\n",
      "  57  50  49  59  60  43  47  70  73  53  58  94  68  83  58  62  71  86\n",
      "  68  80  79  89  66  80  97  64  64  69  65  88  50  64  40  33  79  66\n",
      "  70  62  79  74  92  80  46  45 100  78  47  67  70  92  56  64  71  53\n",
      "  52  89  58  68  96  80  78  80  77  76  73  62  65  65  54  50  64  73\n",
      "  99  72  15  48  73  81  63  30  80  51  90  62  82  54  62  65  63  66\n",
      "  91  74  93  72  38  83  84  68  54  56  52  86  62  99  63  46  46  55\n",
      "  70  65  81  85  80  64  81  88  74  73  51  90  79  80  60  81  65  68\n",
      "  55  81  53  76  98  74  79  67  64  61  58  85  73  63  69  67  63  60\n",
      "  71  87  61  77  68  50  76  84  78  66  76  76  78  60  74  60  54  44\n",
      "  68 100  68  73  44  83  53  78  81  73  56  86  90  70  79  59  82  72\n",
      "  87  67  64  65  36  52  79  58  90  85  99  84  74  87  72  99  74  80\n",
      "  70  59  88  42  41  71  77  57  84  37  80  43  94  44  57  59  84  73\n",
      "  73  55  72  56  82  72  47  74  71  68  59  86  68  65  75  85  53  92\n",
      "  52  72  65  77  64  54  86  63  59  72  77  60  75  57  49  74  72  79\n",
      "  60  55  70  43  82  82  57  84  82  62  79  44  77  32  61  61  60  70\n",
      "  69  77  51  73  70  81  54  57  68  73  95  87  78  74  75  40  69  51\n",
      "  36  49  67  76  83  87  64  76  68  88  92  93  51  82  52  58  70  76\n",
      "  81  53  57  89  58  89  45  74  57  79  53  73  46  51  36  76  64  84\n",
      "  85  50  68  69  67  63  93  61  55  96  65  81  46  72  53  87  38  80\n",
      "  91  88  52  41  72  51  47  76  78  82  61  66  84  54  80  74  66  70\n",
      "  71  44  54  80  95  59  74  48  91  85  73  75  69  38  27  79  63  82\n",
      "  89  74  41 100  84  77  51  91  72  70  48  82  66  66  55  66 100  52\n",
      "  80  91  67  46  66  65  69  60  52  71  44  51  70  62  73  74  90  58\n",
      "  53  57  85  69  72  96  64  61  61  58  80  60  52  73  71  83  72  54\n",
      "  69  62  81 100  59  71  64  53 100  75  58  72  64  60  67  80 100  69\n",
      "  60  61  67  77  60  58  48  94  23  78  86  91  82  54  51  76  45  83\n",
      "  75  78  76  74  62  95  55  65  77  86]\n"
     ]
    }
   ],
   "source": [
    "print(y)"
   ]
  },
  {
   "cell_type": "code",
   "execution_count": 6,
   "id": "74adce41",
   "metadata": {},
   "outputs": [],
   "source": [
    "from sklearn.impute import SimpleImputer\n",
    "imputer = SimpleImputer(missing_values=np.nan, strategy='constant')\n",
    "imputer.fit(X[:, 1:3])\n",
    "X[:, 1:3] = imputer.transform(X[:, 1:3])"
   ]
  },
  {
   "cell_type": "code",
   "execution_count": 7,
   "id": "f13be0b0",
   "metadata": {},
   "outputs": [
    {
     "name": "stdout",
     "output_type": "stream",
     "text": [
      "<class 'pandas.core.frame.DataFrame'>\n",
      "RangeIndex: 1000 entries, 0 to 999\n",
      "Data columns (total 8 columns):\n",
      " #   Column                       Non-Null Count  Dtype \n",
      "---  ------                       --------------  ----- \n",
      " 0   gender                       1000 non-null   object\n",
      " 1   race/ethnicity               1000 non-null   object\n",
      " 2   parental level of education  1000 non-null   object\n",
      " 3   lunch                        1000 non-null   object\n",
      " 4   test preparation course      1000 non-null   object\n",
      " 5   math score                   1000 non-null   int64 \n",
      " 6   reading score                1000 non-null   int64 \n",
      " 7   writing score                1000 non-null   int64 \n",
      "dtypes: int64(3), object(5)\n",
      "memory usage: 62.6+ KB\n"
     ]
    }
   ],
   "source": [
    "dataset.info()"
   ]
  },
  {
   "cell_type": "code",
   "execution_count": 8,
   "id": "1be0185a",
   "metadata": {},
   "outputs": [
    {
     "data": {
      "text/html": [
       "<div>\n",
       "<style scoped>\n",
       "    .dataframe tbody tr th:only-of-type {\n",
       "        vertical-align: middle;\n",
       "    }\n",
       "\n",
       "    .dataframe tbody tr th {\n",
       "        vertical-align: top;\n",
       "    }\n",
       "\n",
       "    .dataframe thead th {\n",
       "        text-align: right;\n",
       "    }\n",
       "</style>\n",
       "<table border=\"1\" class=\"dataframe\">\n",
       "  <thead>\n",
       "    <tr style=\"text-align: right;\">\n",
       "      <th></th>\n",
       "      <th>gender</th>\n",
       "      <th>race/ethnicity</th>\n",
       "      <th>parental level of education</th>\n",
       "      <th>lunch</th>\n",
       "      <th>test preparation course</th>\n",
       "      <th>math score</th>\n",
       "      <th>reading score</th>\n",
       "      <th>writing score</th>\n",
       "    </tr>\n",
       "  </thead>\n",
       "  <tbody>\n",
       "    <tr>\n",
       "      <th>0</th>\n",
       "      <td>female</td>\n",
       "      <td>group B</td>\n",
       "      <td>bachelor's degree</td>\n",
       "      <td>standard</td>\n",
       "      <td>none</td>\n",
       "      <td>72</td>\n",
       "      <td>72</td>\n",
       "      <td>74</td>\n",
       "    </tr>\n",
       "    <tr>\n",
       "      <th>1</th>\n",
       "      <td>female</td>\n",
       "      <td>group C</td>\n",
       "      <td>some college</td>\n",
       "      <td>standard</td>\n",
       "      <td>completed</td>\n",
       "      <td>69</td>\n",
       "      <td>90</td>\n",
       "      <td>88</td>\n",
       "    </tr>\n",
       "    <tr>\n",
       "      <th>2</th>\n",
       "      <td>female</td>\n",
       "      <td>group B</td>\n",
       "      <td>master's degree</td>\n",
       "      <td>standard</td>\n",
       "      <td>none</td>\n",
       "      <td>90</td>\n",
       "      <td>95</td>\n",
       "      <td>93</td>\n",
       "    </tr>\n",
       "    <tr>\n",
       "      <th>3</th>\n",
       "      <td>male</td>\n",
       "      <td>group A</td>\n",
       "      <td>associate's degree</td>\n",
       "      <td>free/reduced</td>\n",
       "      <td>none</td>\n",
       "      <td>47</td>\n",
       "      <td>57</td>\n",
       "      <td>44</td>\n",
       "    </tr>\n",
       "    <tr>\n",
       "      <th>4</th>\n",
       "      <td>male</td>\n",
       "      <td>group C</td>\n",
       "      <td>some college</td>\n",
       "      <td>standard</td>\n",
       "      <td>none</td>\n",
       "      <td>76</td>\n",
       "      <td>78</td>\n",
       "      <td>75</td>\n",
       "    </tr>\n",
       "    <tr>\n",
       "      <th>...</th>\n",
       "      <td>...</td>\n",
       "      <td>...</td>\n",
       "      <td>...</td>\n",
       "      <td>...</td>\n",
       "      <td>...</td>\n",
       "      <td>...</td>\n",
       "      <td>...</td>\n",
       "      <td>...</td>\n",
       "    </tr>\n",
       "    <tr>\n",
       "      <th>995</th>\n",
       "      <td>female</td>\n",
       "      <td>group E</td>\n",
       "      <td>master's degree</td>\n",
       "      <td>standard</td>\n",
       "      <td>completed</td>\n",
       "      <td>88</td>\n",
       "      <td>99</td>\n",
       "      <td>95</td>\n",
       "    </tr>\n",
       "    <tr>\n",
       "      <th>996</th>\n",
       "      <td>male</td>\n",
       "      <td>group C</td>\n",
       "      <td>high school</td>\n",
       "      <td>free/reduced</td>\n",
       "      <td>none</td>\n",
       "      <td>62</td>\n",
       "      <td>55</td>\n",
       "      <td>55</td>\n",
       "    </tr>\n",
       "    <tr>\n",
       "      <th>997</th>\n",
       "      <td>female</td>\n",
       "      <td>group C</td>\n",
       "      <td>high school</td>\n",
       "      <td>free/reduced</td>\n",
       "      <td>completed</td>\n",
       "      <td>59</td>\n",
       "      <td>71</td>\n",
       "      <td>65</td>\n",
       "    </tr>\n",
       "    <tr>\n",
       "      <th>998</th>\n",
       "      <td>female</td>\n",
       "      <td>group D</td>\n",
       "      <td>some college</td>\n",
       "      <td>standard</td>\n",
       "      <td>completed</td>\n",
       "      <td>68</td>\n",
       "      <td>78</td>\n",
       "      <td>77</td>\n",
       "    </tr>\n",
       "    <tr>\n",
       "      <th>999</th>\n",
       "      <td>female</td>\n",
       "      <td>group D</td>\n",
       "      <td>some college</td>\n",
       "      <td>free/reduced</td>\n",
       "      <td>none</td>\n",
       "      <td>77</td>\n",
       "      <td>86</td>\n",
       "      <td>86</td>\n",
       "    </tr>\n",
       "  </tbody>\n",
       "</table>\n",
       "<p>1000 rows × 8 columns</p>\n",
       "</div>"
      ],
      "text/plain": [
       "     gender race/ethnicity parental level of education         lunch  \\\n",
       "0    female        group B           bachelor's degree      standard   \n",
       "1    female        group C                some college      standard   \n",
       "2    female        group B             master's degree      standard   \n",
       "3      male        group A          associate's degree  free/reduced   \n",
       "4      male        group C                some college      standard   \n",
       "..      ...            ...                         ...           ...   \n",
       "995  female        group E             master's degree      standard   \n",
       "996    male        group C                 high school  free/reduced   \n",
       "997  female        group C                 high school  free/reduced   \n",
       "998  female        group D                some college      standard   \n",
       "999  female        group D                some college  free/reduced   \n",
       "\n",
       "    test preparation course  math score  reading score  writing score  \n",
       "0                      none          72             72             74  \n",
       "1                 completed          69             90             88  \n",
       "2                      none          90             95             93  \n",
       "3                      none          47             57             44  \n",
       "4                      none          76             78             75  \n",
       "..                      ...         ...            ...            ...  \n",
       "995               completed          88             99             95  \n",
       "996                    none          62             55             55  \n",
       "997               completed          59             71             65  \n",
       "998               completed          68             78             77  \n",
       "999                    none          77             86             86  \n",
       "\n",
       "[1000 rows x 8 columns]"
      ]
     },
     "execution_count": 8,
     "metadata": {},
     "output_type": "execute_result"
    }
   ],
   "source": [
    "dataset"
   ]
  },
  {
   "cell_type": "code",
   "execution_count": 9,
   "id": "36c14eff",
   "metadata": {},
   "outputs": [],
   "source": [
    "from sklearn.compose import ColumnTransformer\n",
    "from sklearn.preprocessing import OneHotEncoder\n",
    "ct = ColumnTransformer(transformers=[('encoder', OneHotEncoder(), [0])], remainder='passthrough')\n",
    "X = np.array(ct.fit_transform(X))"
   ]
  },
  {
   "cell_type": "code",
   "execution_count": 10,
   "id": "d8603191",
   "metadata": {},
   "outputs": [
    {
     "name": "stdout",
     "output_type": "stream",
     "text": [
      "[[1.0 0.0 'group B' ... 'none' 72 72]\n",
      " [1.0 0.0 'group C' ... 'completed' 69 90]\n",
      " [1.0 0.0 'group B' ... 'none' 90 95]\n",
      " ...\n",
      " [1.0 0.0 'group C' ... 'completed' 59 71]\n",
      " [1.0 0.0 'group D' ... 'completed' 68 78]\n",
      " [1.0 0.0 'group D' ... 'none' 77 86]]\n"
     ]
    }
   ],
   "source": [
    "print(X)"
   ]
  },
  {
   "cell_type": "code",
   "execution_count": 11,
   "id": "7ebc2fd2",
   "metadata": {},
   "outputs": [],
   "source": [
    "from sklearn.preprocessing import LabelEncoder\n",
    "le = LabelEncoder()\n",
    "y = le.fit_transform(y)"
   ]
  },
  {
   "cell_type": "code",
   "execution_count": 12,
   "id": "d57696c6",
   "metadata": {},
   "outputs": [
    {
     "name": "stdout",
     "output_type": "stream",
     "text": [
      "[50 64 69 20 51 54 68 15 43 26 28 19 49 46 34 54 62  6 22 37 39 46 29 49\n",
      " 56 48 31 51 41 51 50 37 41 14 58 55 59 35 64 33 30 44 41 42 30 33 38 52\n",
      " 52 58 24 44 18 51 63 19 62 25 34  0 48 10 31 47 35 37 13 50 32 33 49 39\n",
      " 24 32 17 14  3 57 48 44 26 21 30 39 10 58 64 50 43 58 50 12 47 26 68 58\n",
      " 38 46 38 38 43 50 65 23 66 48 76 40 46 48 74 25 23 30 76 50 58 55 37 41\n",
      " 65 68 69 32 49 62 43 50 50 27 58 16 46 60 51 24 17 32 43 45 47 40 30 23\n",
      " 54  9 51 42 57 69 45 44 42 23 37 64 54 36 63 40 50 61 28 25 67 76 27 54\n",
      " 54 46 50 54 57 46 30 63 34 53 38 76 51 42 23 46 25 41 41 44 21 63 45 55\n",
      " 42 38 61 28 41 27 31 52 62 53 45 44 18 54 38 52 52 42 55  5 36 32 57 51\n",
      " 64 15 46 32 50 49 38 51 49 30 47 30 40 70 42 18 59 54 60 53 43 50 27 56\n",
      " 42 59 31 19 45 47 50 44 38 29 25 59 46 48 28 46 44 53 54 57 53 54 27 66\n",
      " 44 17 57 53 71 46 37 18 34 47 52 49 69 51 56 33 18 22 60 54 22 58 64 58\n",
      " 52 53 44 46 33 51 56 36 19 44 26 51 57 28 57 40 59 45 57 20 43 28 56 33\n",
      " 44 45 51 41 67 54 45 39 60 55 56 29 19 70 38  2 53 27 37 11 29 57 71 42\n",
      " 45 19  5 36 28 39 50 43 43 51 33 71 42 52 45 28 56 33 46 46 37 45 37 65\n",
      " 35 54 34  8 34 36 29 37 34 61 47 46 48 72 49 17 58 76 53 38 59 71 47 21\n",
      " 19 51 46 43 40 51 35 53 43 32 53 17 39 71 33 30 43 19 31 76 38 44 39 53\n",
      " 32 61 50 54 36 43 55 45 44 43 38 30 69 40 43 56 10 38 62 41 29 30 35 46\n",
      " 31 26 42 29 40 49 27 58 55 56 45 52 49 53 36 56 18 48 61 73 50 25 38 23\n",
      " 65 24 76 44 31 21 52 67 38 67 14 41 61 52 66 50 60 37 67 59 42 48 46 43\n",
      " 44 32 37 22 30 47 32 50 33 58 52 46 66 66 44 42 28 52 44 48 58 68 30 68\n",
      " 30 56 42 30 53 63 49 19 28 38 70 61 60 49 54 55 28 60 33 26 25 35 36 19\n",
      " 23 46 49 29 34 70 44 59 34 38 47 62 44 56 55 65 42 56 73 40 40 45 41 64\n",
      " 26 40 16  9 55 42 46 38 55 50 68 56 22 21 76 54 23 43 46 68 32 40 47 29\n",
      " 28 65 34 44 72 56 54 56 53 52 49 38 41 41 30 26 40 49 75 48  1 24 49 57\n",
      " 39  7 56 27 66 38 58 30 38 41 39 42 67 50 69 48 14 59 60 44 30 32 28 62\n",
      " 38 75 39 22 22 31 46 41 57 61 56 40 57 64 50 49 27 66 55 56 36 57 41 44\n",
      " 31 57 29 52 74 50 55 43 40 37 34 61 49 39 45 43 39 36 47 63 37 53 44 26\n",
      " 52 60 54 42 52 52 54 36 50 36 30 20 44 76 44 49 20 59 29 54 57 49 32 62\n",
      " 66 46 55 35 58 48 63 43 40 41 12 28 55 34 66 61 75 60 50 63 48 75 50 56\n",
      " 46 35 64 18 17 47 53 33 60 13 56 19 70 20 33 35 60 49 49 31 48 32 58 48\n",
      " 23 50 47 44 35 62 44 41 51 61 29 68 28 48 41 53 40 30 62 39 35 48 53 36\n",
      " 51 33 25 50 48 55 36 31 46 19 58 58 33 60 58 38 55 20 53  8 37 37 36 46\n",
      " 45 53 27 49 46 57 30 33 44 49 71 63 54 50 51 16 45 27 12 25 43 52 59 63\n",
      " 40 52 44 64 68 69 27 58 28 34 46 52 57 29 33 65 34 65 21 50 33 55 29 49\n",
      " 22 27 12 52 40 60 61 26 44 45 43 39 69 37 31 72 41 57 22 48 29 63 14 56\n",
      " 67 64 28 17 48 27 23 52 54 58 37 42 60 30 56 50 42 46 47 20 30 56 71 35\n",
      " 50 24 67 61 49 51 45 14  5 55 39 58 65 50 17 76 60 53 27 67 48 46 24 58\n",
      " 42 42 31 42 76 28 56 67 43 22 42 41 45 36 28 47 20 27 46 38 49 50 66 34\n",
      " 29 33 61 45 48 72 40 37 37 34 56 36 28 49 47 59 48 30 45 38 57 76 35 47\n",
      " 40 29 76 51 34 48 40 36 43 56 76 45 36 37 43 53 36 34 24 70  4 54 62 67\n",
      " 58 30 27 52 21 59 51 54 52 50 38 71 31 41 53 62]\n"
     ]
    }
   ],
   "source": [
    "print(y)"
   ]
  },
  {
   "cell_type": "code",
   "execution_count": 13,
   "id": "acb0cbdd",
   "metadata": {},
   "outputs": [],
   "source": [
    "from sklearn.model_selection import train_test_split\n",
    "X_train, X_test, y_train, y_test = train_test_split(X, y, test_size = 0.2, random_state = 1)"
   ]
  },
  {
   "cell_type": "code",
   "execution_count": 14,
   "id": "4988a3e4",
   "metadata": {},
   "outputs": [
    {
     "name": "stdout",
     "output_type": "stream",
     "text": [
      "[[0.0 1.0 'group C' ... 'none' 79 81]\n",
      " [0.0 1.0 'group A' ... 'none' 63 63]\n",
      " [0.0 1.0 'group B' ... 'completed' 79 85]\n",
      " ...\n",
      " [1.0 0.0 'group C' ... 'none' 67 75]\n",
      " [0.0 1.0 'group D' ... 'none' 80 75]\n",
      " [1.0 0.0 'group D' ... 'none' 50 64]]\n"
     ]
    }
   ],
   "source": [
    "print(X_train)"
   ]
  },
  {
   "cell_type": "code",
   "execution_count": 15,
   "id": "77bf4303",
   "metadata": {},
   "outputs": [
    {
     "name": "stdout",
     "output_type": "stream",
     "text": [
      "[[0.0 1.0 'group B' ... 'none' 55 59]\n",
      " [1.0 0.0 'group B' ... 'none' 60 72]\n",
      " [1.0 0.0 'group C' ... 'none' 65 77]\n",
      " ...\n",
      " [0.0 1.0 'group C' ... 'none' 79 76]\n",
      " [1.0 0.0 'group E' ... 'none' 61 64]\n",
      " [0.0 1.0 'group E' ... 'completed' 81 80]]\n"
     ]
    }
   ],
   "source": [
    "print(X_test)"
   ]
  },
  {
   "cell_type": "code",
   "execution_count": 16,
   "id": "a7181cc0",
   "metadata": {},
   "outputs": [
    {
     "name": "stdout",
     "output_type": "stream",
     "text": [
      "[47 38 62 52 60 57 37 29 28 48 42 57 50 30 58 59 46 53 34 48 28 49 28 43\n",
      " 75 30 40 44 21 51 38 25 65 67 43 72 21 50 42 49 50 58 60 57 66 51 67 58\n",
      " 24 54 26 50 71 34 31 66 27 50 51 51 68 55 44 62 55 66 39 62 41 76 32 49\n",
      " 65 33 65 52 49 57 56 36 48 58 17 46 35 17 61 74 29  4 57 41 64 54 58 44\n",
      " 45 10 71 52 19 48 27 54 49 27 47 51  8 35 55 25 34 20 48 53 46 38 51 27\n",
      " 28 49 49 18 50 52 42 13 76 56 32 68 47 56 44 48 47 53 61 53 38 30 40 72\n",
      " 51 44 56 56 50 76 47 76 30 70  3 54 46 46 56 51 34 53 50 34 52 30 58 42\n",
      " 43 32 39 48 45 40 34 37 44 42 46 45 25 42 53 38 28 34 17 30 46 46 50 29\n",
      " 43  8 47 57 16 23 29 60 46 33 55 35 30 66 47 19 57 43 58 46 42 51 54 50\n",
      " 36 31 49 32 71 35 46 31 30 47 45 37 56 22 53 58 56 37 42 34 58 60 74 40\n",
      " 58 54 40 40 47 45 65 31 18 43 44 25 54 20 12 40 55 60 33 56 54 33 44 59\n",
      " 51 63 50 33 36 45 51 49 44 48 56 44 53 18 28 54 65 30 31 25 40 18 76 22\n",
      " 26 30 56 33 56 33 57 29 26 36 46 50 37 76 51 14 71 54 51 58 47 54 27 36\n",
      " 43 65 37 41 64 49 69 53 64 73 26 28 50 49 51 21 53 41 40 40 42 53 30 71\n",
      " 56 49 44 53 57 23 39 68 72 44 41 41 33 29 61 62 30 56 44 68 33 30 53 34\n",
      " 30 55 76 44 56 46 36 46 50 42 38 44 43 50 45 54 58 33 50 45 43 46 59 45\n",
      " 38 42 24 19 67 15 35 46 67 35 30 22 54 33 30 71 44 53 14 63 26 32 19 38\n",
      " 63 50 63 59 23 59 48 34 36 56 21 28 37 29 69 46 39 37 67 60 63 57 39 55\n",
      " 36 49 39 39 41 51 17 17 50 22 64 55 62  7 43 52 50 54 43 39 34 27 31 28\n",
      " 64 56 41 58 25 17 27 31 45 62 55 64 16 61 23 36 22 27 52 52 55 16 59 30\n",
      " 70 37 53 27 32 43 44 38 49 48 50 44 23 59 57 29 48 42 42 42 38 76 36 45\n",
      " 62 67 25 54  9 38 58 21 19 37 48 33 43 54 14 29 44 27 49 45 40 70 18 42\n",
      " 43 44 49 56 51 53 76 53 47 59 48 59 44 18 30 30 56  5 30 46 26 56  1 28\n",
      " 41 42 48 17 37 38 41 58 64 19 52 46 50 52 60 36 55 56 48 40 47 43 19 24\n",
      " 56 73 60 60 40 42 52 10 42 40 30 59 32 23 19 46 40 69 70 52 61 32 34 66\n",
      " 75 41 22 36 29 66 22 56 63 18 44 13 23 54 46 41 31 49 41 39 47 56 46 39\n",
      " 50 19 45 76 34  2 12 31 66 12 32 57 48 70 66 58  5 39 58 32 58 38 47 44\n",
      " 49 42 50 42 45 39 28 46 38 55 58 51 43 52 31 40 37 34 50 29 14 75 57 66\n",
      " 50 69 49 70 48 52 22 36 21 48 50 60 61 55 62 44 49 57 45 49 42 19 53 50\n",
      " 41 43 46 58 38 52 31 27 48 33 64 37 71 33 43 28 19 29 14 36 60 76 50 49\n",
      " 37 48 41 35 54 14 44 20 32 45 68 31 41 42 52 45 61 38 50 28 38 43 39 55\n",
      " 65 61 46 22 50 60 44 42 67  5 38 45 44 29 39 15 32 40 64 67 46 68 61 51\n",
      " 72 68 33 36 37 52 46 67 61 31 45 28 69 38 22 35 53 62 56 36 27 54 40 26\n",
      " 57 63 53 36 24 48 53 35]\n"
     ]
    }
   ],
   "source": [
    "print(y_train)"
   ]
  },
  {
   "cell_type": "code",
   "execution_count": 17,
   "id": "682f8d31",
   "metadata": {},
   "outputs": [
    {
     "name": "stdout",
     "output_type": "stream",
     "text": [
      "[30 44 50 34 31 27 27 12 45 58 36 30 43 51 45 60 66 68 39 28 63 60 49 30\n",
      " 26 41 46 44 41 49 24 50 23 44 38 52 48 35 36 69 54 54 50 50 68 65 38 44\n",
      " 25 71 60 58 49 55 57 23 56 52 32 76 20 27 17 33 27 43 38 40 23  6 34 47\n",
      " 59 34 24 37 55 29 11 50 46 58 28 48 59 52 67 52 40 19 55 63 49 57 55 26\n",
      " 38 49 54 37 42 46 58 54 29 28 53 47 43 37 43 20 47  0 48 63 61 48 65 27\n",
      " 51 33 20 61 49 20 33 47 75 57 64 38 61 69 41 29 46 57 37 33 32 55 61 59\n",
      " 25 63 28 76  9 26 46 76 43 56 62 28 41 52 10 40 40 54 62 20 35 37 45 24\n",
      " 57 28 45 21 30 52 34 53 41 60 69 36 64 24 38 52 29 51 62 51 38 67 35 46\n",
      " 54 53 43 35 37 41 38 52]\n"
     ]
    }
   ],
   "source": [
    "print(y_test)"
   ]
  }
 ],
 "metadata": {
  "kernelspec": {
   "display_name": "Python 3",
   "language": "python",
   "name": "python3"
  },
  "language_info": {
   "codemirror_mode": {
    "name": "ipython",
    "version": 3
   },
   "file_extension": ".py",
   "mimetype": "text/x-python",
   "name": "python",
   "nbconvert_exporter": "python",
   "pygments_lexer": "ipython3",
   "version": "3.8.8"
  }
 },
 "nbformat": 4,
 "nbformat_minor": 5
}
